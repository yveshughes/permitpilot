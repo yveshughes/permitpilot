{
 "cells": [
  {
   "cell_type": "code",
   "execution_count": 49,
   "metadata": {},
   "outputs": [
    {
     "data": {
      "text/plain": [
       "'To help you set up your business, I need a bit more information. \\n\\nCould you please provide me with the following details:\\n\\n1. What is the name of the city where your business is located?\\n2. What is the zip code of your business location?\\n3. What is the email address you would like to use for your business?'"
      ]
     },
     "execution_count": 49,
     "metadata": {},
     "output_type": "execute_result"
    }
   ],
   "source": [
    " # Get a list of keys with 'null' values\n",
    "null_keys = [key for key, value in sample_data_updated.items() if value == 'null']\n",
    "\n",
    "# Limit to 5 questions or less\n",
    "questions_to_ask = null_keys[:3]\n",
    "\n",
    "    # what to put into model to ask next question\n",
    "transcript = (\n",
    "f\"\"\"\n",
    "{questions_to_ask}\n",
    "\"\"\"\n",
    "    )\n",
    "\n",
    "stream = client.chat.completions.create(\n",
    "model=\"meta-llama/Meta-Llama-3.1-8B-Instruct-Turbo\",\n",
    "messages=[\n",
    "            {\n",
    "                \"role\": \"system\",\n",
    "                \"content\": \"\"\"You are an assistant helping someone set up a buisness.\n",
    "                You are to use the missing content to ask the client for more information.\"\"\",\n",
    "            },\n",
    "\n",
    "            {\n",
    "                \"role\": \"user\",\n",
    "                \"content\": transcript,\n",
    "            }\n",
    "\n",
    "        ]\n",
    ")\n",
    "\n",
    "stream.choices[0].message.content\n",
    "#stream['ChatCompletionResponse'] #['message']['content']"
   ]
  },
  {
   "cell_type": "code",
   "execution_count": 2,
   "metadata": {},
   "outputs": [
    {
     "name": "stdout",
     "output_type": "stream",
     "text": [
      "hello! do you want to tell me a little about the buissness you're trying to set up?\n"
     ]
    }
   ],
   "source": [
    "from dotenv import load_dotenv\n",
    "import os\n",
    "from together import Together\n",
    "\n",
    "load_dotenv()\n",
    "\n",
    "\n",
    "client = Together(api_key=os.getenv(\"TOGETHER_API_KEY\"))\n",
    "\n",
    "\n",
    "sample_data_all_null = {\n",
    "        '(Name of Business DBA)': 'null',\n",
    "        '(Business Phone)': 'null',\n",
    "        '(Business Address include street directions and suite number if applicable)': 'null',\n",
    "        '(City)': 'null',\n",
    "        '(Zip)': 'null',\n",
    "        '(Business EMail)': 'null',\n",
    "        '(Seating  Bed Capacity Licensed Healthcare)': 'null',\n",
    "        '(Square Footage)': 'null',\n",
    "        '(hours)': 'null',\n",
    "        '(LP)': 'null',\n",
    "        '(LLP)': 'null',\n",
    "        '(Corporation)': 'null',\n",
    "        '(LLC)': 'null',\n",
    "        '(Business Owner)': 'null',\n",
    "        '(Owner Phone)': 'null'\n",
    "    }\n",
    "\n",
    "# you start off by not knowing anything\n",
    "print(\"hello! do you want to tell me a little about the buissness you're trying to set up?\")\n",
    "\n",
    "#####\n",
    "# you're code\n",
    "####\n",
    "\n",
    "first_input = \"\"\n",
    "\n",
    "sample_data_updated = sample_data_all_null \n",
    "\n",
    "# extracted from the input text \n",
    "update = {'(Name of Business DBA)': 'cookies inc.', '(Business Phone)': '860-941-0195'}\n",
    "\n",
    "# Update the sample_data_updated dictionary with the values from the update dictionary\n",
    "sample_data_updated.update(update)\n",
    "\n"
   ]
  },
  {
   "cell_type": "code",
   "execution_count": 14,
   "metadata": {},
   "outputs": [
    {
     "data": {
      "text/plain": [
       "{'Name_of_Business': 'Cookies Inc',\n",
       " 'Business_Phone': '860-941-0195',\n",
       " 'Business_Address': '24th street'}"
      ]
     },
     "execution_count": 14,
     "metadata": {},
     "output_type": "execute_result"
    }
   ],
   "source": [
    "#### json extractor\n",
    "\n",
    "import json\n",
    "from together import Together\n",
    "from pydantic import BaseModel, Field\n",
    "import together\n",
    "\n",
    "together = Together(api_key=os.getenv(\"TOGETHER_API_KEY\"))\n",
    "\n",
    "# Define the schema for the output\n",
    "class flexible_outputs(BaseModel):\n",
    "    \"\"\"Only extract the core info, don't give any additional info\"\"\"\n",
    "\n",
    "    Name_of_Business: str = Field(description=\"The name of the business\")\n",
    "\n",
    "\n",
    "    Business_Phone: str = Field(description=\"The phone number of the business\")\n",
    "\n",
    "\n",
    "    Business_Address: str = Field(description=\"The address of the business\")\n",
    "    \n",
    "  \n",
    "#City: str = Field(description=\"The city of the business if not given put null\")\n",
    "#zip: str = Field(description=\"The zipcode of the business if not given put null\")\n",
    "#Business_email: str = Field(description=\"The email of the business if not given put null\")\n",
    "#seat_capacity: str = Field(description=\"The seating capacity of the business if not given put null\")\n",
    "#Square_Footage: str = Field(description=\"The square footage the business if not given put null\")\n",
    "#hours: str = Field(description=\"The hours of operation of the business if not given put null\")\n",
    "#Business_owner: str = Field(description=\"The users first and/or last name if not given put null\")\n",
    "#owner_phone_number: str = Field(description=\"The users personal phone number if not given put null\")\n",
    "\n",
    "def main():\n",
    "    transcript = (\n",
    "        \"Good morning! so it's called cookies inc. it's on 24th street and the number is 860-941-0195\"\n",
    "    )\n",
    "\n",
    "    # Call the LLM with the JSON schema\n",
    "    extract = together.chat.completions.create(\n",
    "        messages=[\n",
    "            {\n",
    "                \"role\": \"system\",\n",
    "                \"content\": \"The following is a voice message transcript. Only answer in JSON.\",\n",
    "            },\n",
    "            {\n",
    "                \"role\": \"user\",\n",
    "                \"content\": transcript,\n",
    "            },\n",
    "        ],\n",
    "        model=\"meta-llama/Meta-Llama-3.1-8B-Instruct-Turbo\",\n",
    "        response_format={\n",
    "            \"type\": \"json_object\",\n",
    "            \"schema\": flexible_outputs.model_json_schema(),\n",
    "        },\n",
    "    )\n",
    "\n",
    "    output = json.loads(extract.choices[0].message.content)\n",
    "    # print(json.dumps(output, indent=2))\n",
    "    return output\n",
    "\n",
    "main()"
   ]
  },
  {
   "cell_type": "code",
   "execution_count": null,
   "metadata": {},
   "outputs": [],
   "source": []
  },
  {
   "cell_type": "code",
   "execution_count": null,
   "metadata": {},
   "outputs": [],
   "source": []
  },
  {
   "cell_type": "markdown",
   "metadata": {},
   "source": [
    "# Function fin version"
   ]
  },
  {
   "cell_type": "code",
   "execution_count": 20,
   "metadata": {},
   "outputs": [
    {
     "name": "stdout",
     "output_type": "stream",
     "text": [
      "hello! do you want to tell me a little about the buissness you're trying to set up?\n"
     ]
    }
   ],
   "source": [
    "from dotenv import load_dotenv\n",
    "import os\n",
    "from together import Together\n",
    "\n",
    "load_dotenv()\n",
    "\n",
    "\n",
    "client = Together(api_key=os.getenv(\"TOGETHER_API_KEY\"))\n",
    "\n",
    "\n",
    "sample_data_all_null = {\n",
    "        '(Name of Business DBA)': 'null',\n",
    "        '(Business Phone)': 'null',\n",
    "        '(Business Address include street directions and suite number if applicable)': 'null',\n",
    "        '(City)': 'null',\n",
    "        '(Zip)': 'null',\n",
    "        '(Business EMail)': 'null',\n",
    "        '(Seating  Bed Capacity Licensed Healthcare)': 'null',\n",
    "        '(Square Footage)': 'null',\n",
    "        '(hours)': 'null',\n",
    "        '(LP)': 'null',\n",
    "        '(LLP)': 'null',\n",
    "        '(Corporation)': 'null',\n",
    "        '(LLC)': 'null',\n",
    "        '(Business Owner)': 'null',\n",
    "        '(Owner Phone)': 'null'\n",
    "    }\n",
    "\n",
    "# you start off by not knowing anything\n",
    "print(\"hello! do you want to tell me a little about the buissness you're trying to set up?\")\n",
    "\n",
    "#####\n",
    "# you're code\n",
    "####\n",
    "\n",
    "\n",
    "dictionary_to_rename = {'Name_of_Business':'(Name of Business DBA)',\n",
    "                        'Business_Phone':'(Business Phone)',\n",
    "                        'Business_Address':'(Business Address include street directions and suite number if applicable)',\n",
    "                        'persons_name':'(Business Owner)'}\n",
    "\n",
    "\n",
    "sample_data_updated = sample_data_all_null\n"
   ]
  },
  {
   "cell_type": "code",
   "execution_count": null,
   "metadata": {},
   "outputs": [],
   "source": [
    "\n",
    "\n",
    "def ask_follow_up(sample_data_updated):\n",
    "\n",
    "    # Get a list of keys with 'null' values\n",
    "    null_keys = [key for key, value in sample_data_updated.items() if value == 'null']\n",
    "\n",
    "    # Limit to 5 questions or less\n",
    "    questions_to_ask = null_keys[:3]\n",
    "\n",
    "     # what to put into model to ask next question\n",
    "    transcript = (\n",
    "    f\"\"\"\n",
    "    {questions_to_ask}\n",
    "    \"\"\"\n",
    "        )\n",
    "    \n",
    "    stream = client.chat.completions.create(\n",
    "    model=\"meta-llama/Meta-Llama-3.1-8B-Instruct-Turbo\",\n",
    "    messages=[\n",
    "                {\n",
    "                    \"role\": \"system\",\n",
    "                    \"content\": \"\"\"You are an assistant helping someone set up a buisness.\n",
    "                    You are to use the missing content to ask the client for more information.\"\"\",\n",
    "                },\n",
    "\n",
    "                {\n",
    "                    \"role\": \"user\",\n",
    "                    \"content\": transcript,\n",
    "                }\n",
    "\n",
    "            ]\n",
    "    )\n",
    "    #print(stream.choices[0].message.content)\n",
    "    \n",
    "    return questions_to_ask, stream.choices[0].message.content\n",
    "\n",
    "    for chunk in stream:\n",
    "        return chunk.choices[0].delta.content\n",
    "\n",
    "\n",
    "\n",
    "#### Function to find out if done or not and to update our final dictionary\n",
    "def update_current_status(sample_data_updated, output, dictionary_to_rename):\n",
    "    # input: current status dict\n",
    "    # input newly gathered dict results\n",
    "    # input: renaming dict\n",
    "    # output: new dict\n",
    "\n",
    "    # Programmatically rename the keys\n",
    "    output = {\n",
    "        dictionary_to_rename.get(key, key): value\n",
    "        for key, value in output.items()\n",
    "    }\n",
    "\n",
    "    # Update the sample_data_updated dictionary with the values from the update dictionary\n",
    "    sample_data_updated.update(output)\n",
    "\n",
    "    print(sample_data_updated)\n",
    "\n",
    "    # Count the number of fields still set to 'null'\n",
    "    still_null_count = sum(1 for value in sample_data_updated.values() if value == 'null')\n",
    "\n",
    "    # Calculate the percentage of the form that is complete\n",
    "    total_fields = len(sample_data_updated)\n",
    "    perc_complete = ((total_fields - still_null_count) / total_fields) * 100\n",
    "\n",
    "    print(f'Number of fields still null: {still_null_count}, Percent of form complete: {perc_complete:.2f}%')\n",
    "\n",
    "    if perc_complete == 100:\n",
    "        print(\"done! no more chat\")\n",
    "        return sample_data_updated\n",
    "    else:\n",
    "        return sample_data_updated\n",
    "\n",
    "def extract_values_from_response(list_of_latest_questions_asked):\n",
    "    # Define the schema for the output\n",
    "    class intial_response(BaseModel):\n",
    "        \"\"\"Only extract the core info, don't give any additional info\"\"\"\n",
    "\n",
    "        Name_of_Business: str = Field(description=\"The name of the business\")\n",
    "        Business_Phone: str = Field(description=\"The phone number of the business\")\n",
    "        Business_Address: str = Field(description=\"The address of the business\")\n",
    "\n",
    "    class persons_name(BaseModel):\n",
    "        \"\"\"Only extract the core info, don't give any additional info\"\"\"\n",
    "        persons_name: str = Field(description=\"The name of the client\")\n",
    "    \n",
    "list_of_latest_questions_asked = ''\n",
    "\n",
    "\n",
    "\n"
   ]
  },
  {
   "cell_type": "code",
   "execution_count": null,
   "metadata": {},
   "outputs": [],
   "source": [
    "# so i'm gonna need everything as functions\n",
    "\n",
    "# function 1: done or not?\n",
    "    # if not how many left and go onto function 2\n",
    "\n",
    "# function 2: ask question\n",
    "    # \n",
    "\n",
    "# Function 3: extract dict values\n",
    "    #\n",
    "\n",
    "# then back to function 1 \n",
    "    # "
   ]
  },
  {
   "cell_type": "code",
   "execution_count": 64,
   "metadata": {},
   "outputs": [],
   "source": []
  },
  {
   "cell_type": "markdown",
   "metadata": {},
   "source": [
    "# end of working functions version"
   ]
  },
  {
   "cell_type": "code",
   "execution_count": null,
   "metadata": {},
   "outputs": [],
   "source": []
  },
  {
   "cell_type": "code",
   "execution_count": null,
   "metadata": {},
   "outputs": [],
   "source": []
  },
  {
   "cell_type": "code",
   "execution_count": 24,
   "metadata": {},
   "outputs": [
    {
     "name": "stdout",
     "output_type": "stream",
     "text": [
      "{'(Name of Business DBA)': 'Cookies Inc.', '(Business Phone)': '860-941-0195', '(Business Address include street directions and suite number if applicable)': '24th street', '(City)': 'null', '(Zip)': 'null', '(Business EMail)': 'null', '(Seating  Bed Capacity Licensed Healthcare)': 'null', '(Square Footage)': 'null', '(hours)': 'null', '(LP)': 'null', '(LLP)': 'null', '(Corporation)': 'null', '(LLC)': 'null', '(Business Owner)': 'null', '(Owner Phone)': 'null'}\n",
      "Number of fields still null: 12, Percent of form complete: 20.00%\n"
     ]
    }
   ],
   "source": [
    "# each feature will be it's on json... that's the best option\n",
    "# Define the schema for the output\n",
    "\n",
    "# Define the schema for the output\n",
    "class intial_response(BaseModel):\n",
    "    \"\"\"Only extract the core info, don't give any additional info\"\"\"\n",
    "\n",
    "    Name_of_Business: str = Field(description=\"The name of the business\")\n",
    "    Business_Phone: str = Field(description=\"The phone number of the business\")\n",
    "    Business_Address: str = Field(description=\"The address of the business\")\n",
    "\n",
    "class persons_name(BaseModel):\n",
    "    \"\"\"Only extract the core info, don't give any additional info\"\"\"\n",
    "    persons_name: str = Field(description=\"The name of the client\")\n",
    "\n",
    "def main(response_gathering, transcript):\n",
    "    # Call the LLM with the JSON schema\n",
    "    extract = together.chat.completions.create(\n",
    "        messages=[\n",
    "            {\n",
    "                \"role\": \"system\",\n",
    "                \"content\": \"you are a helpful assitant trying to take contxt out of a statement. Only answer in JSON.\",\n",
    "            },\n",
    "            {\n",
    "                \"role\": \"user\",\n",
    "                \"content\": transcript,\n",
    "            },\n",
    "        ],\n",
    "        model=\"meta-llama/Meta-Llama-3.1-8B-Instruct-Turbo\",\n",
    "        response_format={\n",
    "            \"type\": \"json_object\",\n",
    "            \"schema\": response_gathering.model_json_schema(),\n",
    "        },\n",
    "    )\n",
    "\n",
    "    output = json.loads(extract.choices[0].message.content)\n",
    "    # print(json.dumps(output, indent=2))\n",
    "    return output\n",
    "\n",
    "\n",
    "output = main(response_gathering=intial_response, \n",
    "     transcript=\"Good morning! so it's called cookies inc. it's on 24th street and the number is 860-941-0195\")\n",
    "\n",
    "sample_data_updated = sample_data_all_null \n",
    "\n",
    "dictionary_to_rename = {'Name_of_Business':'(Name of Business DBA)',\n",
    "                        'Business_Phone':'(Business Phone)',\n",
    "                        'Business_Address':'(Business Address include street directions and suite number if applicable)',\n",
    "                        'persons_name':'(Business Owner)'}\n",
    "\n",
    "# Programmatically rename the keys\n",
    "output = {\n",
    "    dictionary_to_rename.get(key, key): value\n",
    "    for key, value in output.items()\n",
    "}\n",
    "\n",
    "# Update the sample_data_updated dictionary with the values from the update dictionary\n",
    "sample_data_updated.update(output)\n",
    "\n",
    "print(sample_data_updated)\n",
    "\n",
    "# Count the number of fields still set to 'null'\n",
    "still_null_count = sum(1 for value in sample_data_updated.values() if value == 'null')\n",
    "\n",
    "# Calculate the percentage of the form that is complete\n",
    "total_fields = len(sample_data_updated)\n",
    "perc_complete = ((total_fields - still_null_count) / total_fields) * 100\n",
    "\n",
    "print(f'Number of fields still null: {still_null_count}, Percent of form complete: {perc_complete:.2f}%')"
   ]
  },
  {
   "cell_type": "code",
   "execution_count": 25,
   "metadata": {},
   "outputs": [
    {
     "name": "stdout",
     "output_type": "stream",
     "text": [
      "To better assist you in setting up your business, I need some more information. Could you please provide the following details:\n",
      "\n",
      "1. What is the city where your business will be located?\n",
      "2. What is the zip code of your business location?\n",
      "3. What is the email address you would like to use for your business communications?\n",
      "4. What type of healthcare services will your business offer, and what is the seating and bed capacity for patients or clients?\n",
      "5. What is the approximate square footage of the space where your business will be located?"
     ]
    }
   ],
   "source": [
    "\n",
    "\n",
    "# ask for a maximum of 5 questions at a time:\n",
    "if still_null_count > 0: # this should be while \n",
    "\n",
    "    # choose 5 keys that are still null and print them as a list:\n",
    "    # Get a list of keys with 'null' values\n",
    "    null_keys = [key for key, value in sample_data_updated.items() if value == 'null']\n",
    "\n",
    "    # Limit to 5 questions or less\n",
    "    questions_to_ask = null_keys[:3]\n",
    "\n",
    "    # print(questions_to_ask)\n",
    "\n",
    "    # what to put into model to ask next question\n",
    "    transcript = (\n",
    "    f\"\"\"\n",
    "    {questions_to_ask}\n",
    "    \"\"\"\n",
    "        )\n",
    "    \n",
    "    stream = client.chat.completions.create(\n",
    "    model=\"meta-llama/Meta-Llama-3.1-8B-Instruct-Turbo\",\n",
    "    messages=[\n",
    "                {\n",
    "                    \"role\": \"system\",\n",
    "                    \"content\": \"\"\"You are an assistant helping someone set up a buisness.\n",
    "                    You are to use the missing content to ask the client for more information.\"\"\",\n",
    "                },\n",
    "\n",
    "                {\n",
    "                    \"role\": \"user\",\n",
    "                    \"content\": transcript,\n",
    "                }\n",
    "\n",
    "            ],\n",
    "    stream=True\n",
    "    )\n",
    "\n",
    "    for chunk in stream:\n",
    "        print(chunk.choices[0].delta.content or \"\", end=\"\", flush=True)"
   ]
  },
  {
   "cell_type": "code",
   "execution_count": 60,
   "metadata": {},
   "outputs": [],
   "source": [
    "\n",
    "\n",
    "\n",
    "\n"
   ]
  },
  {
   "cell_type": "code",
   "execution_count": 61,
   "metadata": {},
   "outputs": [],
   "source": [
    "questions_to_ask, output =  ask_follow_up(sample_data_updated)"
   ]
  },
  {
   "cell_type": "code",
   "execution_count": 62,
   "metadata": {},
   "outputs": [
    {
     "data": {
      "text/plain": [
       "['(City)', '(Zip)', '(Business EMail)']"
      ]
     },
     "execution_count": 62,
     "metadata": {},
     "output_type": "execute_result"
    }
   ],
   "source": [
    "questions_to_ask"
   ]
  },
  {
   "cell_type": "code",
   "execution_count": 63,
   "metadata": {},
   "outputs": [
    {
     "data": {
      "text/plain": [
       "\"To better assist you in setting up your business, I need a bit more information. Could you please provide the following details:\\n\\n1. What is the name of your business?\\n2. What type of business are you planning to start (e.g., retail, service-based, food establishment, etc.)?\\n3. What is the name of the city where your business will be located?\\n4. What is the zip code of your business location?\\n5. What is your business email address? (I see you've provided a placeholder, but I'd like to confirm the actual email address you'd like to use for your business communications.)\\n6. What is the nature of your business (e.g., sole proprietorship, partnership, LLC, corporation, etc.)?\\n7. Do you have a business name registered with the state or local government?\\n8. Do you have a business license or permit required by the city or state?\\n9. What is your business's mission statement or purpose?\\n10. Do you have a rough estimate of your startup costs and projected revenue?\\n\\nOnce I have this information, I can provide more tailored guidance on setting up your business.\""
      ]
     },
     "execution_count": 63,
     "metadata": {},
     "output_type": "execute_result"
    }
   ],
   "source": [
    "output "
   ]
  },
  {
   "cell_type": "code",
   "execution_count": null,
   "metadata": {},
   "outputs": [],
   "source": [
    "ask_follow_up(sample_data_updated)\n",
    "update_current_status(output, dictionary_to_rename)"
   ]
  },
  {
   "cell_type": "code",
   "execution_count": null,
   "metadata": {},
   "outputs": [],
   "source": []
  },
  {
   "cell_type": "code",
   "execution_count": null,
   "metadata": {},
   "outputs": [],
   "source": [
    "\n",
    "# Count the number of fields still set to 'null'\n",
    "still_null_count = sum(1 for value in sample_data_updated.values() if value == 'null')\n",
    "\n",
    "# Calculate the percentage of the form that is complete\n",
    "total_fields = len(sample_data_updated)\n",
    "perc_complete = ((total_fields - still_null_count) / total_fields) * 100\n",
    "\n",
    "print(f'Number of fields still null: {still_null_count}, Percent of form complete: {perc_complete:.2f}%')\n",
    "\n",
    "# ask for a maximum of 5 questions at a time:\n",
    "if still_null_count > 0: # this should be while \n",
    "\n",
    "    # choose 5 keys that are still null and print them as a list:\n",
    "    # Get a list of keys with 'null' values\n",
    "    null_keys = [key for key, value in sample_data_updated.items() if value == 'null']\n",
    "\n",
    "    # Limit to 5 questions or less\n",
    "    questions_to_ask = null_keys[:5]\n",
    "\n",
    "    # print(questions_to_ask)\n",
    "\n",
    "    # what to put into model to ask next question\n",
    "    transcript = (\n",
    "    f\"\"\"\n",
    "    {questions_to_ask}\n",
    "    \"\"\"\n",
    "\n",
    "\n",
    "        )\n",
    "    \n",
    "    stream = client.chat.completions.create(\n",
    "    model=\"meta-llama/Meta-Llama-3.1-8B-Instruct-Turbo\",\n",
    "    messages=[\n",
    "                {\n",
    "                    \"role\": \"system\",\n",
    "                    \"content\": \"\"\"You are an assistant helping someone set up a buisness.\n",
    "                    You are to use the missing content to ask the client for more information.\"\"\",\n",
    "                },\n",
    "\n",
    "                {\n",
    "                    \"role\": \"user\",\n",
    "                    \"content\": transcript,\n",
    "                }\n",
    "\n",
    "            ],\n",
    "    stream=True\n",
    "    )\n",
    "\n",
    "    for chunk in stream:\n",
    "        print(chunk.choices[0].delta.content or \"\", end=\"\", flush=True)"
   ]
  },
  {
   "cell_type": "code",
   "execution_count": null,
   "metadata": {},
   "outputs": [],
   "source": []
  },
  {
   "cell_type": "code",
   "execution_count": null,
   "metadata": {},
   "outputs": [],
   "source": []
  },
  {
   "cell_type": "code",
   "execution_count": null,
   "metadata": {},
   "outputs": [],
   "source": []
  }
 ],
 "metadata": {
  "kernelspec": {
   "display_name": "Python 3",
   "language": "python",
   "name": "python3"
  },
  "language_info": {
   "codemirror_mode": {
    "name": "ipython",
    "version": 3
   },
   "file_extension": ".py",
   "mimetype": "text/x-python",
   "name": "python",
   "nbconvert_exporter": "python",
   "pygments_lexer": "ipython3",
   "version": "3.12.4"
  }
 },
 "nbformat": 4,
 "nbformat_minor": 2
}
